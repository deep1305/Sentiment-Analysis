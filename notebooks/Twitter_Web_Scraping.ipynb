{
 "cells": [
  {
   "cell_type": "code",
   "execution_count": null,
   "id": "852fb34d-34b2-4443-8b81-2317b2187437",
   "metadata": {
    "scrolled": true
   },
   "outputs": [],
   "source": [
    "from ntscraper import Nitter"
   ]
  },
  {
   "cell_type": "code",
   "execution_count": null,
   "id": "222ad4db-1475-4fd5-89f0-e88c815d3e70",
   "metadata": {},
   "outputs": [],
   "source": [
    "scraper = Nitter(0)"
   ]
  },
  {
   "cell_type": "code",
   "execution_count": null,
   "id": "62452a25-64b6-42c9-b1b9-36674fb29a26",
   "metadata": {},
   "outputs": [],
   "source": [
    "import pandas as pd\n",
    "tweets = scraper.get_tweets(\"india\", mode = 'hashtag', number=10)"
   ]
  },
  {
   "cell_type": "code",
   "execution_count": null,
   "id": "78abb7aa-1dee-4891-ae92-5857dcb0ce31",
   "metadata": {},
   "outputs": [],
   "source": [
    "final_tweets = []\n",
    "for x in tweets['tweets']:\n",
    "    data = [x['link'], x['text'],x['date'],x['stats']['likes'],x['stats']['comments']]\n",
    "    final_tweets.append(data)"
   ]
  },
  {
   "cell_type": "code",
   "execution_count": null,
   "id": "247e9f5d-fdc2-484e-bdd7-ea7db3badb36",
   "metadata": {},
   "outputs": [],
   "source": [
    "dat = pd.DataFrame(final_tweets, columns =['twitter_link','text','date','likes','comments'])"
   ]
  },
  {
   "cell_type": "code",
   "execution_count": null,
   "id": "9151789b-ddc8-4922-9d34-a9769d503573",
   "metadata": {},
   "outputs": [],
   "source": [
    "dat"
   ]
  },
  {
   "cell_type": "code",
   "execution_count": null,
   "id": "ab2c408b-06a5-4e8e-b482-d6eda61a8fbf",
   "metadata": {},
   "outputs": [],
   "source": [
    "tweets = scraper.get_profile_info(\"JeffBezos\")"
   ]
  },
  {
   "cell_type": "code",
   "execution_count": null,
   "id": "15ed575d-452b-4ca7-a0d9-2c8b5a9ea8ce",
   "metadata": {},
   "outputs": [],
   "source": [
    "tweets"
   ]
  },
  {
   "cell_type": "code",
   "execution_count": null,
   "id": "da5d2f6a-dd29-45d7-a3e3-ec8200ea9b71",
   "metadata": {},
   "outputs": [],
   "source": [
    "tweets['image']"
   ]
  },
  {
   "cell_type": "code",
   "execution_count": null,
   "id": "eb741d7a-2d62-4a15-a947-81b2af790584",
   "metadata": {},
   "outputs": [],
   "source": [
    "\n",
    "def get_tweets(name, modes, no):\n",
    "    tweets = scraper.get_tweets(name, mode = modes, number=no)\n",
    "    final_tweets = []\n",
    "    for x in tweets['tweets']:\n",
    "        data = [x['link'], x['text'],x['date'],x['stats']['likes'],x['stats']['comments']]\n",
    "        final_tweets.append(data)\n",
    "    dat= pd.DataFrame(final_tweets, columns =['twitter_link','text','date','likes','comments'])\n",
    "    return dat\n"
   ]
  },
  {
   "cell_type": "code",
   "execution_count": null,
   "id": "85196f3c-2058-44b4-b9b0-9a93f44453e7",
   "metadata": {},
   "outputs": [],
   "source": [
    "#data = get_tweets('narendramodi','user',6)"
   ]
  },
  {
   "cell_type": "code",
   "execution_count": null,
   "id": "d23ebe69-b031-4da4-b61d-009fbc7350d7",
   "metadata": {},
   "outputs": [],
   "source": [
    "#data"
   ]
  },
  {
   "cell_type": "code",
   "execution_count": null,
   "id": "c4efb192-6e73-4b61-acf6-b9afb94214cf",
   "metadata": {},
   "outputs": [],
   "source": [
    "#scraper.get_profile_info('narendramodi')"
   ]
  },
  {
   "cell_type": "code",
   "execution_count": null,
   "id": "7327d6be-2e4e-414b-9eb0-eaeb96e0a71a",
   "metadata": {},
   "outputs": [],
   "source": []
  }
 ],
 "metadata": {
  "kernelspec": {
   "display_name": "Python 3 (ipykernel)",
   "language": "python",
   "name": "python3"
  },
  "language_info": {
   "codemirror_mode": {
    "name": "ipython",
    "version": 3
   },
   "file_extension": ".py",
   "mimetype": "text/x-python",
   "name": "python",
   "nbconvert_exporter": "python",
   "pygments_lexer": "ipython3",
   "version": "3.10.9"
  }
 },
 "nbformat": 4,
 "nbformat_minor": 5
}
